{
 "cells": [
  {
   "cell_type": "code",
   "execution_count": 6,
   "id": "a424ca8e",
   "metadata": {},
   "outputs": [
    {
     "name": "stdout",
     "output_type": "stream",
     "text": [
      "Requirement already satisfied: scikit-learn==1.2.2 in c:\\users\\prem gupta\\anaconda3\\lib\\site-packages (1.2.2)\n",
      "Requirement already satisfied: numpy>=1.17.3 in c:\\users\\prem gupta\\anaconda3\\lib\\site-packages (from scikit-learn==1.2.2) (1.24.3)\n",
      "Requirement already satisfied: scipy>=1.3.2 in c:\\users\\prem gupta\\anaconda3\\lib\\site-packages (from scikit-learn==1.2.2) (1.10.1)\n",
      "Requirement already satisfied: joblib>=1.1.1 in c:\\users\\prem gupta\\anaconda3\\lib\\site-packages (from scikit-learn==1.2.2) (1.2.0)\n",
      "Requirement already satisfied: threadpoolctl>=2.0.0 in c:\\users\\prem gupta\\anaconda3\\lib\\site-packages (from scikit-learn==1.2.2) (3.5.0)\n",
      "Note: you may need to restart the kernel to use updated packages.\n"
     ]
    }
   ],
   "source": [
    "pip install scikit-learn==1.2.2"
   ]
  },
  {
   "cell_type": "code",
   "execution_count": 2,
   "id": "3db5f345",
   "metadata": {},
   "outputs": [],
   "source": [
    "import pandas as pd\n",
    "df = pd.read_csv(\"C:/Users/Prem Gupta/Downloads/filtered_cleaned_data_final2.csv\")"
   ]
  },
  {
   "cell_type": "code",
   "execution_count": 24,
   "id": "a6816eba",
   "metadata": {},
   "outputs": [],
   "source": [
    "import gensim\n",
    "from gensim.models import Word2Vec\n",
    "import numpy as np\n",
    "\n",
    "# Tokenize text (split into words)\n",
    "tokenized_text = [tweet.split() for tweet in df[\"cleaned_text\"]]\n",
    "\n",
    "# Train Word2Vec model\n",
    "w2v_model = Word2Vec(sentences=tokenized_text, vector_size=100, window=5, min_count=2, workers=4)\n",
    "\n",
    "# Function to convert text to vector\n",
    "def vectorize_text(text, model):\n",
    "    words = text.split()\n",
    "    vector = [model.wv[word] for word in words if word in model.wv]\n",
    "    return sum(vector) / len(vector) if vector else np.zeros(100)\n",
    "\n",
    "# Convert dataset to vectors\n",
    "X = np.array([vectorize_text(tweet, w2v_model) for tweet in df[\"cleaned_text\"]])\n",
    "y = df[\"label\"]  # Labels remain the same\n",
    "\n"
   ]
  },
  {
   "cell_type": "code",
   "execution_count": 25,
   "id": "12abda60",
   "metadata": {},
   "outputs": [
    {
     "name": "stdout",
     "output_type": "stream",
     "text": [
      "Resampled dataset distribution: Counter({'Anxiety': 15066, 'Depression': 15066, 'Stress': 15066, 'Bipolar': 15066, 'Personality disorder': 15066})\n"
     ]
    }
   ],
   "source": [
    "from imblearn.over_sampling import SMOTE\n",
    "from collections import Counter\n",
    "\n",
    "smote = SMOTE(sampling_strategy=\"auto\", random_state=42)\n",
    "X_resampled, y_resampled = smote.fit_resample(X, y)\n",
    "\n",
    "# Check new class distribution\n",
    "print(\"Resampled dataset distribution:\", Counter(y_resampled))\n"
   ]
  },
  {
   "cell_type": "code",
   "execution_count": 26,
   "id": "0eb284e6",
   "metadata": {},
   "outputs": [
    {
     "name": "stdout",
     "output_type": "stream",
     "text": [
      "[LightGBM] [Info] Auto-choosing col-wise multi-threading, the overhead of testing was 0.054353 seconds.\n",
      "You can set `force_col_wise=true` to remove the overhead.\n",
      "[LightGBM] [Info] Total Bins 25500\n",
      "[LightGBM] [Info] Number of data points in the train set: 60264, number of used features: 100\n",
      "[LightGBM] [Info] Start training from score -1.613328\n",
      "[LightGBM] [Info] Start training from score -1.611581\n",
      "[LightGBM] [Info] Start training from score -1.609338\n",
      "[LightGBM] [Info] Start training from score -1.610085\n",
      "[LightGBM] [Info] Start training from score -1.602888\n",
      "Accuracy: 0.9236691889021638\n",
      "Classification Report:\n",
      "                       precision    recall  f1-score   support\n",
      "\n",
      "             Anxiety       0.92      0.92      0.92      3060\n",
      "             Bipolar       0.92      0.93      0.93      3039\n",
      "          Depression       0.91      0.85      0.88      3012\n",
      "Personality disorder       0.95      0.99      0.97      3021\n",
      "              Stress       0.90      0.92      0.91      2934\n",
      "\n",
      "            accuracy                           0.92     15066\n",
      "           macro avg       0.92      0.92      0.92     15066\n",
      "        weighted avg       0.92      0.92      0.92     15066\n",
      "\n"
     ]
    }
   ],
   "source": [
    "from sklearn.model_selection import train_test_split\n",
    "import lightgbm as lgb\n",
    "from sklearn.metrics import accuracy_score, classification_report\n",
    "\n",
    "# Split data\n",
    "X_train, X_test, y_train, y_test = train_test_split(X_resampled, y_resampled, test_size=0.2, random_state=42)\n",
    "\n",
    "# Train LightGBM Model\n",
    "model = lgb.LGBMClassifier(n_estimators=500, learning_rate=0.05)\n",
    "model.fit(X_train, y_train)\n",
    "\n",
    "# Predictions\n",
    "y_pred = model.predict(X_test)\n",
    "\n",
    "# Evaluate model\n",
    "print(\"Accuracy:\", accuracy_score(y_test, y_pred))\n",
    "print(\"Classification Report:\\n\", classification_report(y_test, y_pred))\n"
   ]
  },
  {
   "cell_type": "code",
   "execution_count": 27,
   "id": "ee2c4611",
   "metadata": {},
   "outputs": [
    {
     "data": {
      "text/plain": [
       "['word2vec_model.pkl']"
      ]
     },
     "execution_count": 27,
     "metadata": {},
     "output_type": "execute_result"
    }
   ],
   "source": [
    "import joblib\n",
    "\n",
    "joblib.dump(model, \"mental_health_classifier_lgb.pkl\")\n",
    "joblib.dump(w2v_model, \"word2vec_model.pkl\")"
   ]
  },
  {
   "cell_type": "code",
   "execution_count": 29,
   "id": "53e509b5",
   "metadata": {},
   "outputs": [
    {
     "name": "stdout",
     "output_type": "stream",
     "text": [
      "Predicted Mental Health Issue: Depression\n"
     ]
    }
   ],
   "source": [
    "# Load Model\n",
    "model = joblib.load(\"mental_health_classifier_lgb.pkl\")\n",
    "w2v_model = joblib.load(\"word2vec_model.pkl\")\n",
    "\n",
    "# Example tweet\n",
    "new_text = [\"i am happy\"]\n",
    "new_text_vectorized = np.array([vectorize_text(tweet, w2v_model) for tweet in new_text])\n",
    "\n",
    "# Predict\n",
    "predicted_label = model.predict(new_text_vectorized)\n",
    "print(\"Predicted Mental Health Issue:\", predicted_label[0])\n",
    "\n"
   ]
  },
  {
   "cell_type": "code",
   "execution_count": null,
   "id": "4409d7be",
   "metadata": {},
   "outputs": [],
   "source": [
    "\n"
   ]
  },
  {
   "cell_type": "code",
   "execution_count": 5,
   "id": "d675fe82",
   "metadata": {},
   "outputs": [
    {
     "name": "stdout",
     "output_type": "stream",
     "text": [
      "Requirement already satisfied: lightgbm in c:\\users\\prem gupta\\anaconda3\\lib\\site-packages (4.6.0)\n",
      "Requirement already satisfied: numpy>=1.17.0 in c:\\users\\prem gupta\\anaconda3\\lib\\site-packages (from lightgbm) (1.24.3)\n",
      "Requirement already satisfied: scipy in c:\\users\\prem gupta\\anaconda3\\lib\\site-packages (from lightgbm) (1.10.1)\n",
      "Note: you may need to restart the kernel to use updated packages.\n"
     ]
    }
   ],
   "source": [
    "pip install lightgbm"
   ]
  },
  {
   "cell_type": "code",
   "execution_count": null,
   "id": "db9df111",
   "metadata": {},
   "outputs": [],
   "source": []
  },
  {
   "cell_type": "code",
   "execution_count": 3,
   "id": "1aa4ca23",
   "metadata": {},
   "outputs": [
    {
     "name": "stdout",
     "output_type": "stream",
     "text": [
      "['Anxiety' 'Depression' 'Stress' 'Bipolar' 'Personality disorder']\n",
      "Number of mental health issues detected: 5\n"
     ]
    }
   ],
   "source": [
    "print(df['label'].unique())\n",
    "print(f\"Number of mental health issues detected: {df['label'].nunique()}\")\n"
   ]
  },
  {
   "cell_type": "code",
   "execution_count": null,
   "id": "68f19d59",
   "metadata": {},
   "outputs": [],
   "source": []
  }
 ],
 "metadata": {
  "kernelspec": {
   "display_name": "Python 3 (ipykernel)",
   "language": "python",
   "name": "python3"
  },
  "language_info": {
   "codemirror_mode": {
    "name": "ipython",
    "version": 3
   },
   "file_extension": ".py",
   "mimetype": "text/x-python",
   "name": "python",
   "nbconvert_exporter": "python",
   "pygments_lexer": "ipython3",
   "version": "3.11.4"
  }
 },
 "nbformat": 4,
 "nbformat_minor": 5
}
